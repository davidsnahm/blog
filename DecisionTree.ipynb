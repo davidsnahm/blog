{
 "cells": [
  {
   "cell_type": "markdown",
   "id": "008a41d3",
   "metadata": {},
   "source": [
    "\n",
    "## Decision Trees"
   ]
  },
  {
   "cell_type": "markdown",
   "id": "e12d4da2",
   "metadata": {},
   "source": [
    "Some of the main reasons decision trees are popular are that they are easy to interpret and they are flexible when it comes to how the input features are structured. You'll hear a lot of fancy terms like information gain or Gini impurity, but decision trees ultimately just boil down to: how can we split up our data to make our classification/regression problem easier. One way I like to wrap my mind around decision trees is to think about the game 20 Questions. The objective of 20 Questions is to make a classification decision by asking fewer than 20 questions. Naturally, when we're trying to think of questions to ask, we would want to ask questions that we think will provide the most information for when we try to make our final decision. As we chain more of our questions together, we can eventually use all of the information we have gathered to make a decision. Questions such as \"Are you thinking of a person?\" provide much more information than asking \"What was the weather 5 days ago?\". Humans are pretty good at intuitively determining whether a question will provide a lot of useful information or not. Since computers don't have this intuition, decision trees use tools like entropy and Gini impurity to measure the usefulness of a question (more on this later). "
   ]
  },
  {
   "cell_type": "markdown",
   "id": "e476b807",
   "metadata": {},
   "source": [
    "\n",
    "### Gini Impurity\n",
    "Gini impurity is one popular way to measure how well a given feature and threshold are splitting the data. "
   ]
  }
 ],
 "metadata": {
  "kernelspec": {
   "display_name": "Python 3",
   "language": "python",
   "name": "python3"
  },
  "language_info": {
   "codemirror_mode": {
    "name": "ipython",
    "version": 3
   },
   "file_extension": ".py",
   "mimetype": "text/x-python",
   "name": "python",
   "nbconvert_exporter": "python",
   "pygments_lexer": "ipython3",
   "version": "3.9.5"
  }
 },
 "nbformat": 4,
 "nbformat_minor": 5
}
