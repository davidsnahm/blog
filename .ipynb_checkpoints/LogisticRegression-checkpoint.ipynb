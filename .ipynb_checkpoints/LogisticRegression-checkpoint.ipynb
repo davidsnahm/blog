{
 "cells": [
  {
   "cell_type": "markdown",
   "metadata": {},
   "source": [
    "## Logistic Regression"
   ]
  },
  {
   "cell_type": "markdown",
   "metadata": {},
   "source": [
    "In its most basic form, logistic regression is a binary classification algorithm that classifies data into two groups. For example, a common use case of logistic regression could be predicting whether a customer will buy a car (class 1) or not (class 0). \n",
    "\n",
    "Logistic regression takes a datapoint **x** as input and outputs the predicted probability that $x$ belongs to class 1. Similar to linear regression, we are trying to find the best weights $w$ to weigh the features of the data. However, if we simply take a weighted sum of the features ($w^{\\top}x$), this would not be a probability (because it could be any real number, not just limited to the range [0, 1]). Therefore, we want to \"squash\" $w^{\\top}x$ into a number between 0 and 1. We do this by using the **sigmoid** function: $$ f(x) = \\frac{1}{1 + e^{-x}} $$"
   ]
  },
  {
   "cell_type": "markdown",
   "metadata": {},
   "source": [
    "The range of the sigmoid function is [0, 1] which we can see by looking at the value of the sigmoid at different values: $$ \\lim_{x \\to -\\infty} f(x) = 0 \\\\ \\lim_{x \\to \\infty} f(x) = 1 \\\\ f(0) = 0.5 $$"
   ]
  },
  {
   "cell_type": "markdown",
   "metadata": {},
   "source": [
    "We now know the goal of logistic regression (binary classification) and how logistic regression can take in data and output probabilities (sigmoid function), but we still need to understand how logistic regression finds the best weights $w$. In linear regression, we learned the best weights $w$ by using least squares. However, least squares would not be a good method to use for logistic regression for several reasons. \n",
    "\n",
    "1) Least squares would heavily penalize outliers even if those outliers should not be affecting the decision boundary very much. \n",
    "\n",
    "2) Least squares has a probabilistic justification for being used to optimize linear regression. Least squares is equivalent to the MLE under the Gaussian noise assumption. \n",
    "\n"
   ]
  },
  {
   "cell_type": "code",
   "execution_count": 2,
   "metadata": {},
   "outputs": [
    {
     "data": {
      "image/png": "[encoded data removed]",
      "text/plain": [
       "<Figure size 432x288 with 1 Axes>"
      ]
     },
     "metadata": {},
     "output_type": "display_data"
    }
   ],
   "source": [
    "import matplotlib.pyplot as plt\n",
    "import numpy as np\n",
    "\n",
    "X = np.array([-5, -4, -3, -2, -1, 1, 2, 3])\n",
    "y = np.array([0, 0, 0, 0, 0, 1, 1, 1])\n",
    "\n",
    "plt.plot(X)\n",
    "plt.show()"
   ]
  },
  {
   "cell_type": "markdown",
   "metadata": {},
   "source": [
    "As a result, we instead minimize cross entropy loss (or log loss) to calculate the best weights for logistic regression. We cannot simply take the gradient and come up with a closed form solution as we did in the linear regression case because we no longer end up with a linear system of equations when we set the gradient equal to zero. We instead use **gradient descent** or **stochastic gradient descent** to minimize the cross entropy loss. By performing gradient descent using the gradients of the cross entropy loss with respect to the logistic regression weights, we can find the weights that minimize the loss. "
   ]
  },
  {
   "cell_type": "markdown",
   "metadata": {},
   "source": [
    "#### Pros/Cons"
   ]
  },
  {
   "cell_type": "markdown",
   "metadata": {},
   "source": [
    "Pros:\n",
    "* Easy to train\n",
    "* Gives interpretable output (probability of class 1)\n",
    "\n",
    "Cons:\n",
    "* Linear decision boundary can lead to underfitting\n",
    "* Would need to choose correct feature transformation to form non-linear decision boundaries"
   ]
  },
  {
   "cell_type": "code",
   "execution_count": null,
   "metadata": {},
   "outputs": [],
   "source": []
  }
 ],
 "metadata": {
  "kernelspec": {
   "display_name": "Python 3",
   "language": "python",
   "name": "python3"
  },
  "language_info": {
   "codemirror_mode": {
    "name": "ipython",
    "version": 3
   },
   "file_extension": ".py",
   "mimetype": "text/x-python",
   "name": "python",
   "nbconvert_exporter": "python",
   "pygments_lexer": "ipython3",
   "version": "3.6.4"
  }
 },
 "nbformat": 4,
 "nbformat_minor": 2
}
