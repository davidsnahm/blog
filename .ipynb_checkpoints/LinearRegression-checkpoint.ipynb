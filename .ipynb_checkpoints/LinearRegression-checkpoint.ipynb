{
 "cells": [
  {
   "cell_type": "markdown",
   "metadata": {},
   "source": [
    "## Linear Algebra Review"
   ]
  },
  {
   "cell_type": "code",
   "execution_count": 2,
   "metadata": {},
   "outputs": [],
   "source": [
    "import numpy as np\n",
    "import matplotlib.pyplot as plt"
   ]
  },
  {
   "cell_type": "markdown",
   "metadata": {},
   "source": [
    "## Regression vs. Classification"
   ]
  },
  {
   "cell_type": "markdown",
   "metadata": {},
   "source": [
    "The goal of a **regression** problem is to make a prediction that is a **continuous** value. In contrast, the goal of a **classification** problem is to make a prediction that is a **discrete** value. **Continuous** data can take any value within a certain range that you define (ex. 0.52, 100.1, 0, -2), whereas **discrete** data only takes integer values (ex. -1, 0, 1, ...). I think the best way to understand the difference is by looking at different examples of regression and classification problems. \n",
    "\n",
    "**Regression:**\n",
    "- Predicting someone's height from their weight\n",
    "    - Height is a continuous value because it could technically be any positive number\n",
    "- Predicting 2020 housing prices based on 2019 housing prices \n",
    "    - Housing prices in 2020 are also a continuous value because they could be any positive number\n",
    "\n",
    "**Classification:**\n",
    "- Predicting if someone will default on a loan based on their salary\n",
    "    - Whether someone will default on a loan is a discrete value because the person must have either defaulted or not defaulted on the loan (i.e. 0 = person did not default, 1 = person did default)\n",
    "- Determining if a tumor is malignant or benign\n",
    "    - Similarly, a tumor being malignant or benign is a discrete value because it must either be malignant or benign (it cannot be a value in between)\n",
    "\n",
    "**Note:** The two examples of classification problems are examples of **binary classification** because the output is binary (i.e. the tumor must be either malignant or benign). "
   ]
  },
  {
   "cell_type": "markdown",
   "metadata": {},
   "source": [
    "## Linear Regression"
   ]
  },
  {
   "cell_type": "markdown",
   "metadata": {},
   "source": [
    "Now that we know the difference between a classification and regression problem, we can better understand what we are trying to do in **linear regression**. As the name suggests, linear regression can be used to solve regression problems. The general idea is to take in some data and output a number that could be any real number. We can simply think of our linear regression model in the following mathematical way: \n",
    "\n",
    "$$ \\hat{y} = f(x) $$\n",
    "\n",
    "In this equation, we are using our linear regression model (represented by the function $f(x)$) to output some number $\\hat{y}$ based on some input data $x$. $\\hat{y}$ is the prediction that the linear regression model is making based on the data. \n",
    "\n",
    "Linear regression's name suggests our model is linear in some variable in our problem. It turns out, we want our model to be linear in the parameters $\\beta_0, ..., \\beta_p$ of the function $f(x)$. We represent the function $f(x)$ as: \n",
    "\n",
    "$$ f(x) = \\beta_0 1 + \\beta_1 x_{i,1} + ... + \\beta_p x_{i,p} $$"
   ]
  },
  {
   "cell_type": "markdown",
   "metadata": {},
   "source": [
    "## 2D Linear Regression"
   ]
  },
  {
   "cell_type": "markdown",
   "metadata": {},
   "source": [
    "Linear regression in 2D is essentially what elementary school students learn as a \"best fit\" line. The idea of the best fit line was to fit some line to the data that best approximated the general trend of the data. Even though the best fit line was not always able to perfectly go through each point in the data, it was still able to approximate the trend of simple datasets well. We can represent the best fit line as we would represent any other line: \n",
    "\n",
    "$$ \\hat{y} = \\beta_1 x + \\beta_0 $$\n",
    "\n",
    "where $\\beta_1$ is the slope of the line and $\\beta_0$ is the y-intercept. This formula is equivalent to the function $f(x)$ that we defined above for linear regression."
   ]
  },
  {
   "cell_type": "code",
   "execution_count": 6,
   "metadata": {},
   "outputs": [],
   "source": [
    "def least_squares(X, y):\n",
    "    return np.linalg.inv(X.T @ X) @ X.T @ y"
   ]
  },
  {
   "cell_type": "code",
   "execution_count": 20,
   "metadata": {},
   "outputs": [
    {
     "data": {
      "image/png": "[encoded data removed]",
      "text/plain": [
       "<Figure size 432x288 with 1 Axes>"
      ]
     },
     "metadata": {},
     "output_type": "display_data"
    }
   ],
   "source": [
    "weight = np.arange(10)\n",
    "X = np.column_stack((np.ones(10), weight))\n",
    "beta = np.array([2, 5])\n",
    "y = X @ beta + np.random.uniform(-10, 10, size = (10,))\n",
    "plt.scatter(weight, y)\n",
    "y_hat = X @ least_squares(X, y)\n",
    "plt.plot(weight, y_hat)\n",
    "plt.show()"
   ]
  },
  {
   "cell_type": "code",
   "execution_count": null,
   "metadata": {},
   "outputs": [],
   "source": []
  }
 ],
 "metadata": {
  "kernelspec": {
   "display_name": "Python 3",
   "language": "python",
   "name": "python3"
  },
  "language_info": {
   "codemirror_mode": {
    "name": "ipython",
    "version": 3
   },
   "file_extension": ".py",
   "mimetype": "text/x-python",
   "name": "python",
   "nbconvert_exporter": "python",
   "pygments_lexer": "ipython3",
   "version": "3.6.4"
  }
 },
 "nbformat": 4,
 "nbformat_minor": 2
}
